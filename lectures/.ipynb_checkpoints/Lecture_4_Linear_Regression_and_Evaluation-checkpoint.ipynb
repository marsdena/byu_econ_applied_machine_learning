{
 "cells": [
  {
   "cell_type": "markdown",
   "metadata": {},
   "source": [
    "## Linear Regression\n",
    "\n",
    "Up to this point we have seen how you can get, clean, describe, and visualize data. Once you have a good understanding of your data and have cleaned it up, the next step is typically modeling. \n",
    "\n",
    "In this course, modeling will mean using a machine learning technique to learn - from data - the relationship between a set of features and what we hope to predict. Let's bring in some data to make this idea more concrete. "
   ]
  },
  {
   "cell_type": "code",
   "execution_count": 1,
   "metadata": {
    "collapsed": true
   },
   "outputs": [],
   "source": [
    "from sklearn.datasets import load_boston\n",
    "import pandas as pd\n",
    "import seaborn as sns\n",
    "import matplotlib.pyplot as plt\n",
    "import numpy as np\n",
    "from sklearn.model_selection import learning_curve\n",
    "from sklearn.metrics import make_scorer\n",
    "%matplotlib inline"
   ]
  },
  {
   "cell_type": "code",
   "execution_count": 2,
   "metadata": {
    "collapsed": true
   },
   "outputs": [],
   "source": [
    "np.random.seed(42)"
   ]
  },
  {
   "cell_type": "code",
   "execution_count": 3,
   "metadata": {
    "collapsed": false
   },
   "outputs": [
    {
     "data": {
      "text/html": [
       "<div>\n",
       "<style>\n",
       "    .dataframe thead tr:only-child th {\n",
       "        text-align: right;\n",
       "    }\n",
       "\n",
       "    .dataframe thead th {\n",
       "        text-align: left;\n",
       "    }\n",
       "\n",
       "    .dataframe tbody tr th {\n",
       "        vertical-align: top;\n",
       "    }\n",
       "</style>\n",
       "<table border=\"1\" class=\"dataframe\">\n",
       "  <thead>\n",
       "    <tr style=\"text-align: right;\">\n",
       "      <th></th>\n",
       "      <th>CRIM</th>\n",
       "      <th>ZN</th>\n",
       "      <th>INDUS</th>\n",
       "      <th>CHAS</th>\n",
       "      <th>NOX</th>\n",
       "      <th>RM</th>\n",
       "      <th>AGE</th>\n",
       "      <th>DIS</th>\n",
       "      <th>RAD</th>\n",
       "      <th>TAX</th>\n",
       "      <th>PTRATIO</th>\n",
       "      <th>B</th>\n",
       "      <th>LSTAT</th>\n",
       "    </tr>\n",
       "  </thead>\n",
       "  <tbody>\n",
       "    <tr>\n",
       "      <th>0</th>\n",
       "      <td>0.00632</td>\n",
       "      <td>18.0</td>\n",
       "      <td>2.31</td>\n",
       "      <td>0.0</td>\n",
       "      <td>0.538</td>\n",
       "      <td>6.575</td>\n",
       "      <td>65.2</td>\n",
       "      <td>4.0900</td>\n",
       "      <td>1.0</td>\n",
       "      <td>296.0</td>\n",
       "      <td>15.3</td>\n",
       "      <td>396.90</td>\n",
       "      <td>4.98</td>\n",
       "    </tr>\n",
       "    <tr>\n",
       "      <th>1</th>\n",
       "      <td>0.02731</td>\n",
       "      <td>0.0</td>\n",
       "      <td>7.07</td>\n",
       "      <td>0.0</td>\n",
       "      <td>0.469</td>\n",
       "      <td>6.421</td>\n",
       "      <td>78.9</td>\n",
       "      <td>4.9671</td>\n",
       "      <td>2.0</td>\n",
       "      <td>242.0</td>\n",
       "      <td>17.8</td>\n",
       "      <td>396.90</td>\n",
       "      <td>9.14</td>\n",
       "    </tr>\n",
       "    <tr>\n",
       "      <th>2</th>\n",
       "      <td>0.02729</td>\n",
       "      <td>0.0</td>\n",
       "      <td>7.07</td>\n",
       "      <td>0.0</td>\n",
       "      <td>0.469</td>\n",
       "      <td>7.185</td>\n",
       "      <td>61.1</td>\n",
       "      <td>4.9671</td>\n",
       "      <td>2.0</td>\n",
       "      <td>242.0</td>\n",
       "      <td>17.8</td>\n",
       "      <td>392.83</td>\n",
       "      <td>4.03</td>\n",
       "    </tr>\n",
       "    <tr>\n",
       "      <th>3</th>\n",
       "      <td>0.03237</td>\n",
       "      <td>0.0</td>\n",
       "      <td>2.18</td>\n",
       "      <td>0.0</td>\n",
       "      <td>0.458</td>\n",
       "      <td>6.998</td>\n",
       "      <td>45.8</td>\n",
       "      <td>6.0622</td>\n",
       "      <td>3.0</td>\n",
       "      <td>222.0</td>\n",
       "      <td>18.7</td>\n",
       "      <td>394.63</td>\n",
       "      <td>2.94</td>\n",
       "    </tr>\n",
       "    <tr>\n",
       "      <th>4</th>\n",
       "      <td>0.06905</td>\n",
       "      <td>0.0</td>\n",
       "      <td>2.18</td>\n",
       "      <td>0.0</td>\n",
       "      <td>0.458</td>\n",
       "      <td>7.147</td>\n",
       "      <td>54.2</td>\n",
       "      <td>6.0622</td>\n",
       "      <td>3.0</td>\n",
       "      <td>222.0</td>\n",
       "      <td>18.7</td>\n",
       "      <td>396.90</td>\n",
       "      <td>5.33</td>\n",
       "    </tr>\n",
       "  </tbody>\n",
       "</table>\n",
       "</div>"
      ],
      "text/plain": [
       "      CRIM    ZN  INDUS  CHAS    NOX     RM   AGE     DIS  RAD    TAX  \\\n",
       "0  0.00632  18.0   2.31   0.0  0.538  6.575  65.2  4.0900  1.0  296.0   \n",
       "1  0.02731   0.0   7.07   0.0  0.469  6.421  78.9  4.9671  2.0  242.0   \n",
       "2  0.02729   0.0   7.07   0.0  0.469  7.185  61.1  4.9671  2.0  242.0   \n",
       "3  0.03237   0.0   2.18   0.0  0.458  6.998  45.8  6.0622  3.0  222.0   \n",
       "4  0.06905   0.0   2.18   0.0  0.458  7.147  54.2  6.0622  3.0  222.0   \n",
       "\n",
       "   PTRATIO       B  LSTAT  \n",
       "0     15.3  396.90   4.98  \n",
       "1     17.8  396.90   9.14  \n",
       "2     17.8  392.83   4.03  \n",
       "3     18.7  394.63   2.94  \n",
       "4     18.7  396.90   5.33  "
      ]
     },
     "execution_count": 3,
     "metadata": {},
     "output_type": "execute_result"
    }
   ],
   "source": [
    "boston_data = load_boston()\n",
    "boston_df = pd.DataFrame(boston_data.data, columns=boston_data.feature_names)\n",
    "boston_df.head()"
   ]
  },
  {
   "cell_type": "code",
   "execution_count": 4,
   "metadata": {
    "collapsed": true
   },
   "outputs": [],
   "source": [
    "target = boston_data.target"
   ]
  },
  {
   "cell_type": "markdown",
   "metadata": {},
   "source": [
    "Here is some description of our data:\n",
    "\n",
    "* CRIM - per capita crime rate by town\n",
    "* ZN - proportion of residential land zoned for lots over 25,000 sq.ft.\n",
    "* INDUS - proportion of non-retail business acres per town.\n",
    "* CHAS - Charles River dummy variable (1 if tract bounds river; 0 otherwise)\n",
    "* NOX - nitric oxides concentration (parts per 10 million)\n",
    "* RM - average number of rooms per dwelling\n",
    "* AGE - proportion of owner-occupied units built prior to 1940\n",
    "* DIS - weighted distances to five Boston employment centres\n",
    "* RAD - index of accessibility to radial highways\n",
    "* TAX - full-value property-tax rate per 10,000 dollars\n",
    "* PTRATIO - pupil-teacher ratio by town\n",
    "* B - 1000(Bk - 0.63)^2 where Bk is the proportion of blacks by town\n",
    "* LSTAT - percent lower status of the population\n",
    "* TARGET - Median value of owner-occupied homes in $1000's\n",
    "\n",
    "The goal of this dataset if to use the features (everything except the target) to predict the target (median home value). How might we do this? For our first pass, let's simplify the problem. Let's say we just want to use LSAT to predict TARGET. "
   ]
  },
  {
   "cell_type": "code",
   "execution_count": 5,
   "metadata": {
    "collapsed": false
   },
   "outputs": [
    {
     "data": {
      "text/plain": [
       "<matplotlib.collections.PathCollection at 0x11e061438>"
      ]
     },
     "execution_count": 5,
     "metadata": {},
     "output_type": "execute_result"
    },
    {
     "data": {
      "image/png": "[encoded data removed]",
      "text/plain": [
       "<matplotlib.figure.Figure at 0x1086ed320>"
      ]
     },
     "metadata": {},
     "output_type": "display_data"
    }
   ],
   "source": [
    "plt.scatter(boston_df['LSTAT'], target)"
   ]
  },
  {
   "cell_type": "markdown",
   "metadata": {},
   "source": [
    "### Cost / Evaluation Function\n",
    "\n",
    "How can we tackle this problem? A good place to start one's thinking is: say we develop many models to predict our target, how would we pick the best one? Once we determine this, our goal is then to minimize/maximize that value. \n",
    "\n",
    "It is extremely useful if you can reduce your problem to a single evaluation metric because then it makes it very easy to iterate on model development. In industry, though, this can be tricky. Sometimes it isn't extremely clear what you want your model to maximize/minimize. We will discuss this challenge more later in the class, but for now we will stick with pretty standard evaluation functions used today.\n",
    "\n",
    "So for this problem, I would propose the following evaluation metric: mean squared error (MSE). To understand MSE, let's define some terminology:\n",
    "\n",
    "* $\\hat{y_{i}}$ - this is our predicted value for the ith data point\n",
    "* $y_{i}$ - this is actual value for the ith data point\n",
    "* $n$ - the number of data points\n",
    "\n",
    "Thus, MSE is:\n",
    "\n",
    "$\\frac{1}{n} \\sum_{i}{(y_{i} - \\hat{y_{i}})^2}$\n",
    "\n",
    "In English, for each point we subtract our predicted value from the actual. Then, since we don't care about the direction of the error, we square the difference. Lastly, we take the mean of all these values. Basically, we are saying that we want the average distance between our predictions and our actuals to be small. \n",
    "\n",
    "You might be wondering, why we squared the value instead of taking the absolute value. It turns out that for some of the following math, squaring the value works out nicely. Also, it is the MLE estimate. This does have the effect, though, of weighting large errors more in our average since we are squaring all the differences.\n",
    "\n",
    "### Our model\n",
    "\n",
    "Now that we have our cost function, how do we find a way to minimze it? In this lecture we will be reviewing the Linear Regression model. The model is as follows:\n",
    "\n",
    "$\\hat{y_{i}}$ = $\\beta_{0} + \\sum_{j}{B_{j}x_{j,i}}$\n",
    "\n",
    "Where $j$ is the number of predictors we have and the $\\beta$ values are our coefficients with $\\beta_{0}$ being the intercept. Basically, our model is a linear combination of our predictors with an intercept.\n",
    "\n",
    "Now that we have a model and a cost function, our challenge becomes finding the $\\beta$ values for our model that minimize MSE for our data. For linear regression, there is actually a closed form solution called the [normal equation](http://mathworld.wolfram.com/NormalEquation.html). In this lecture, though, we are going to use a different technique that is more common in machine learning - gradient descent.\n",
    "\n",
    "### Gradient Descent\n",
    "\n",
    "Gradient descent is a technique we borrow from optimization. It is a very simple, yet powerful algorithm that can be used to find the minimum of a function.\n",
    "\n",
    "1. Pick a random starting value\n",
    "2. Take steps proportional to the negative of the gradient at the current point\n",
    "3. Repeat until you converge\n",
    "\n",
    "This technique will find the global minimum if a function is convex, if not, we can only prove that it will find a local minimum. Let's take a look at an [example](https://medium.com/onfido-tech/machine-learning-101-be2e0a86c96a). \n",
    "\n",
    "The first question we need to answer is: is our cost function convex? Let's take a look:"
   ]
  },
  {
   "cell_type": "code",
   "execution_count": 6,
   "metadata": {
    "collapsed": false
   },
   "outputs": [
    {
     "name": "stdout",
     "output_type": "stream",
     "text": [
      "Min MSE: 166790.9803\n",
      "Coeff: 1\n"
     ]
    },
    {
     "data": {
      "image/png": "[encoded data removed]",
      "text/plain": [
       "<matplotlib.figure.Figure at 0x11e553828>"
      ]
     },
     "metadata": {},
     "output_type": "display_data"
    }
   ],
   "source": [
    "import numpy as np\n",
    "\n",
    "mses = []\n",
    "lstat_coef = range(-20, 23)\n",
    "for coef in lstat_coef:\n",
    "    pred_values = np.array([coef * lstat for lstat in boston_df.LSTAT.values])\n",
    "    mses.append(np.sum((target - pred_values)**2))\n",
    "    \n",
    "plt.plot(lstat_coef, mses)\n",
    "print(\"Min MSE: {}\".format(np.min(mses)))\n",
    "print(\"Coeff: {}\".format(lstat_coef[np.argmin(mses)]))"
   ]
  },
  {
   "cell_type": "markdown",
   "metadata": {},
   "source": [
    "What we have done above is taken a range of coefficient values for LSTAT and for each one calculated the MSE on our data. If we then plot these we get the above curve - looks pretty convex! And in fact, it turns out that our MSE function with our linear regression model will always be convex! That means we can use gradient descent to find the optimal coefficients for our model!\n",
    "\n",
    "One reason that gradient descent is more common than the normal equation for machine learning is that it scales much better as we increase the number of features. It is also a general optimization technique that pops up all over machine learning, so understanding how it works is extremely valuable.\n",
    "\n",
    "### Gradients\n",
    "\n",
    "If you look at our pseudocode for gradient descent again, you will see that really all we need to do is calculate gradients. So - what are gradients? You can probably guess from the animations we saw, but they are just the partial derivatives with respect to the coefficients. For each coefficient we have, we will need to calculate the derivatie of our MSE with respect to that coefficient. Let's get started! \n",
    "\n",
    "Remeber our cost function: $\\frac{1}{n} \\sum_{i}{(y_{i} - \\hat{y_{i}})^2}$\n",
    "\n",
    "Now, let's expand it out for our simple example with an intercept and a single variable, LSTAT:\n",
    "\n",
    "$\\frac{1}{n} \\sum_{i}{(y_{i} - (\\beta_{0} + \\beta_{1} * LSTAT_{i}))^2}$\n",
    "\n",
    "Now, for the derivative of this with respect to $\\beta_{0}$, we get:\n",
    "\n",
    "$\\frac{2}{n} \\sum_{i}{(y_{i} - (\\beta_{0} + \\beta_{1} * LSTAT_{i}))}$ * -1\n",
    "\n",
    "And for $\\beta{1}$:\n",
    "\n",
    "$\\frac{2}{n} \\sum_{i}{(y_{i} - (\\beta_{0} + \\beta_{1} * LSTAT_{i}) * -LSTAT_{i})}$\n",
    "\n",
    "Now, let's see this gradient descent algorithm in code:"
   ]
  },
  {
   "cell_type": "code",
   "execution_count": 65,
   "metadata": {
    "collapsed": false
   },
   "outputs": [],
   "source": [
    "beta_0 = 0\n",
    "beta_1 = 0\n",
    "learning_rate = 0.001\n",
    "lstat_values = boston_df.LSTAT.values\n",
    "n = len (lstat_values)\n",
    "all_mse = []\n",
    "for _ in range(10000):\n",
    "    predicted = beta_0 + beta_1 * lstat_values\n",
    "    residuals = target - predicted\n",
    "    all_mse.append(np.sum(residuals**2))\n",
    "    beta_0 = beta_0 - learning_rate * ((2/n) * np.sum(residuals) * -1)\n",
    "    beta_1 = beta_1 - learning_rate * ((2/n) * residuals.dot(lstat_values) * -1)"
   ]
  },
  {
   "cell_type": "code",
   "execution_count": 66,
   "metadata": {
    "collapsed": false
   },
   "outputs": [
    {
     "data": {
      "text/plain": [
       "[<matplotlib.lines.Line2D at 0x120904898>]"
      ]
     },
     "execution_count": 66,
     "metadata": {},
     "output_type": "execute_result"
    },
    {
     "data": {
      "image/png": "[encoded data removed]",
      "text/plain": [
       "<matplotlib.figure.Figure at 0x1205efd30>"
      ]
     },
     "metadata": {},
     "output_type": "display_data"
    }
   ],
   "source": [
    "plt.plot(range(len(all_mse)), all_mse)"
   ]
  },
  {
   "cell_type": "code",
   "execution_count": 55,
   "metadata": {
    "collapsed": false
   },
   "outputs": [
    {
     "data": {
      "text/plain": [
       "34.553840879456807"
      ]
     },
     "execution_count": 55,
     "metadata": {},
     "output_type": "execute_result"
    }
   ],
   "source": [
    "beta_0"
   ]
  },
  {
   "cell_type": "code",
   "execution_count": 56,
   "metadata": {
    "collapsed": false
   },
   "outputs": [
    {
     "data": {
      "text/plain": [
       "-0.95004935376241229"
      ]
     },
     "execution_count": 56,
     "metadata": {},
     "output_type": "execute_result"
    }
   ],
   "source": [
    "beta_1"
   ]
  },
  {
   "cell_type": "code",
   "execution_count": 57,
   "metadata": {
    "collapsed": false
   },
   "outputs": [
    {
     "data": {
      "text/plain": [
       "[<matplotlib.lines.Line2D at 0x11f086da0>]"
      ]
     },
     "execution_count": 57,
     "metadata": {},
     "output_type": "execute_result"
    },
    {
     "data": {
      "image/png": "[encoded data removed]",
      "text/plain": [
       "<matplotlib.figure.Figure at 0x11ff996d8>"
      ]
     },
     "metadata": {},
     "output_type": "display_data"
    }
   ],
   "source": [
    "plt.scatter(boston_df['LSTAT'], target)\n",
    "x = range(0, 40)\n",
    "plt.plot(x, [beta_0 + beta_1 * l for l in x])"
   ]
  },
  {
   "cell_type": "markdown",
   "metadata": {},
   "source": [
    "Nice! It looks like it worked! But let's discuss a few things:\n",
    "\n",
    "### Learning rate\n",
    "\n",
    "As you noticed from the code, the learning rate is a hyper-parameter used to determine how far we step away from the direction of the gradient. How do you know what value to pick? Typically, many values can be tried and here are a few that I believe are suggested by Andrew Ng: .001, .003, .01, .03, .1, .3, 1, 3\n",
    "\n",
    "Choosing a value that is too small, leads to slower convergence. Choosing a value too large can result in over-shooting the minimum and diverging. \n",
    "\n",
    "There are also other gradient descent optimizers that are more sophisticated and adapt the learning rate over time for you. This is also something you can do on your own where you slowly decay the learning rate over time. You can read more about different optimizers [here](http://ruder.io/optimizing-gradient-descent/index.html#adam).\n",
    "\n",
    "### When to stop iterating?\n",
    "\n",
    "In my code, I simply choose to run our loop 10,000 times. Why 10,000. No real reason other than I was pretty sure it was long enough to converge. That is typically not the best practice. A few better ideas are:\n",
    "\n",
    "1. Monitor your cost after each loop and when it decreases by less than some tolerance - say 0.001 - stop.\n",
    "2. Use a validation set and track the loss - for example, MSE - on that. When it stops decreasing, stop.\n",
    "\n",
    "### Matrix optimizations\n",
    "\n",
    "My code above is more for teaching and is far from optimal. It is much more efficient to update all of the weights in a single matrix operation using numpy.\n",
    "\n",
    "### Normalizing data\n",
    "\n",
    "When working with gradient descent you want all of your data normalized as discussed in the previous lecture. Subtract from the mean and divide by the standard deviation for all your training features. This typically makes the training faster and reduces the chances of getting stuck in local optimum if your cost function is not convex.\n",
    "\n",
    "### Other types of gradient descent\n",
    "\n",
    "The gradient descent we have show here is a vanilla form, which means each coefficient update uses all of the data to calculate the gradients. There is also **stochastic gradient descent** which only uses 1 row of data to update the coefficients in each loop. This is much more scalable as you only have to look at one data row at a time, but is also much more random as you are trying to navigate using a gradient calculated on only a single data point. This introduces a new term as well: **epoch** which is the number of times you want to loop over your data.\n",
    "\n",
    "Another type of gradient descent is **mini-batch gradient descent**. This form is a compromise between the two where you choose a batch size of say 32 (or even better a batch schedule which starts with small batches and increases over the number of epochs) and each iteration of your gradient descent gets to use 32 random rows of data to calculate the gradient with. This offers some scalabilty and some randomness. This randomness it turns out is actually useful for cost functions which are not convex (deep learning) as it can help the model escape local minimum. This is the most common method for non-convex cost functions.\n",
    "\n",
    "## Assumptions of our model\n",
    "\n",
    "Whenever you are dealing with a model it is good to be aware of the assumptions it is making. I was going to write up a section on this here, but Duke already did an excellent job: http://people.duke.edu/~rnau/testing.htm. You can also read more on this in \"Data Science From Scratch\" chapter 15.\n",
    "\n",
    "## Using SKLearn\n",
    "\n",
    "Now that we understand a bit of the theory and implementation, let's turn to a software library to actually run linear regression on our data. It is very useful for learning to write models from scratch, but it practice you are usually much better off using a tested and widely used library."
   ]
  },
  {
   "cell_type": "code",
   "execution_count": 11,
   "metadata": {
    "collapsed": true
   },
   "outputs": [],
   "source": [
    "from sklearn.linear_model import SGDRegressor\n",
    "from sklearn.metrics import mean_squared_error\n",
    "from sklearn.preprocessing import StandardScaler"
   ]
  },
  {
   "cell_type": "markdown",
   "metadata": {},
   "source": [
    "Remeber to scale your data - very important!"
   ]
  },
  {
   "cell_type": "code",
   "execution_count": 12,
   "metadata": {
    "collapsed": true
   },
   "outputs": [],
   "source": [
    "scaler = StandardScaler()\n",
    "scaler.fit(boston_df)\n",
    "scaled_df = scaler.transform(boston_df)"
   ]
  },
  {
   "cell_type": "markdown",
   "metadata": {},
   "source": [
    "SKLearn has a very nice API. It provides many models and all of them have a fit and predict function. You call fit on the X and y data to train the model and the predict on new features to get a predicted value. SKLearn also provides a lot of metrics you can use for evaluation such as MSE. Here I output root MSE (RMSE) because that gets us back into the original scale of our target, which I find easier to understand.\n",
    "\n",
    "With our SGDRegressor tol tells the model when to stop iterating and eta0 is our initial learning rate."
   ]
  },
  {
   "cell_type": "code",
   "execution_count": 13,
   "metadata": {
    "collapsed": false
   },
   "outputs": [
    {
     "name": "stdout",
     "output_type": "stream",
     "text": [
      "RMSE: 4.721352143256387\n"
     ]
    }
   ],
   "source": [
    "linear_regression_model = SGDRegressor(tol=.0001, eta0=.01)\n",
    "linear_regression_model.fit(scaled_df, target)\n",
    "predictions = linear_regression_model.predict(scaled_df)\n",
    "mse = mean_squared_error(target, predictions)\n",
    "print(\"RMSE: {}\".format(np.sqrt(mse)))"
   ]
  },
  {
   "cell_type": "markdown",
   "metadata": {},
   "source": [
    "### Polynomial Variables\n",
    "\n",
    "If you remember our plot of LSTAT against our target, there looked to be a polynomial relationship. Linear regression fits linear relationships, but if you add polynomial features, such as LSTAT^2 you can fit more complex relationships. SKLearn makes this easy:"
   ]
  },
  {
   "cell_type": "code",
   "execution_count": 14,
   "metadata": {
    "collapsed": true
   },
   "outputs": [],
   "source": [
    "from sklearn.preprocessing import PolynomialFeatures"
   ]
  },
  {
   "cell_type": "code",
   "execution_count": 15,
   "metadata": {
    "collapsed": false
   },
   "outputs": [
    {
     "name": "stdout",
     "output_type": "stream",
     "text": [
      "(506, 104)\n"
     ]
    }
   ],
   "source": [
    "poly = PolynomialFeatures(2, include_bias=False)\n",
    "poly_df = poly.fit_transform(boston_df)\n",
    "scaled_poly_df = scaler.fit_transform(poly_df)\n",
    "print(scaled_poly_df.shape)"
   ]
  },
  {
   "cell_type": "code",
   "execution_count": 16,
   "metadata": {
    "collapsed": false
   },
   "outputs": [
    {
     "name": "stdout",
     "output_type": "stream",
     "text": [
      "RMSE: 3.77419484950651\n"
     ]
    }
   ],
   "source": [
    "linear_regression_model.fit(scaled_poly_df, target)\n",
    "predictions = linear_regression_model.predict(scaled_poly_df)\n",
    "mse = mean_squared_error(target, predictions)\n",
    "print(\"RMSE: {}\".format(np.sqrt(mse)))"
   ]
  },
  {
   "cell_type": "markdown",
   "metadata": {},
   "source": [
    "The polynomial features command generated a new feature matrix consisting of all polynomial combinations of the features with degree less than or equal to the specified degree (in our example 2). We then scaled these data and feed them to our model. And we got a better RMSE. Excellent! Note, though, that these results are not very valid because they are applied to our testing data. Later in this lecture we will look at how to better evaluate the generalizability of our models.\n",
    "\n",
    "### Categorical variables\n",
    "\n",
    "Linear regression is one of the models that you need to be careful with when you have categorical data. If you have a features with values 1, 2, and 3 that actually mean Male, Female, No Response. You don't want to give it to the model this way even though they are numbers. If you did, the model would assign that feature a coefficient - perhaps 0.1. That would mean that being a female boosts the prediction by .1 and No response by .2. But maybe female should boost the score by 1.2 and No response by only .001. To account for this, you should convert these values to dummy variables as described in the previous lecture so that each value can have its own weight. Unless you are confident there is a constant relationship in the order of your numeric values."
   ]
  },
  {
   "cell_type": "markdown",
   "metadata": {},
   "source": [
    "## Interpreting your model\n",
    "\n",
    "Linear regression is a great statistical model that has been around for a long time. There are many statistical techiques that one can use to evaluate and interpret it. We will not cover them all and in fact will mostly focus on very simple methods that are perhaps more common in machine learning than statistics. To get a better grasp of the statistical techniques, please read chapter 3 of [Introduction to Statistical Learning](http://www-bcf.usc.edu/~gareth/ISL/) and take a look at the [statsmodels](http://www.statsmodels.org/stable/index.html) package.\n",
    "\n",
    "First, let's take a look at the coefficients our model has learned:"
   ]
  },
  {
   "cell_type": "code",
   "execution_count": 17,
   "metadata": {
    "collapsed": false
   },
   "outputs": [
    {
     "data": {
      "text/plain": [
       "[('AGE', -0.15579031087838216),\n",
       " ('INDUS', -0.36890070005440012),\n",
       " ('ZN', 0.61249837977769284),\n",
       " ('TAX', -0.6639660631363058),\n",
       " ('CRIM', -0.7135059713991182),\n",
       " ('CHAS', 0.73578321065548924),\n",
       " ('B', 0.87494012630072004),\n",
       " ('RAD', 1.1142142863056546),\n",
       " ('NOX', -1.2452942744431366),\n",
       " ('PTRATIO', -1.9425283730193659),\n",
       " ('DIS', -2.2549312823672696),\n",
       " ('RM', 3.0623224309690911),\n",
       " ('LSTAT', -3.4699728921831285)]"
      ]
     },
     "execution_count": 17,
     "metadata": {},
     "output_type": "execute_result"
    }
   ],
   "source": [
    "linear_regression_model.fit(scaled_df, target)\n",
    "sorted(list(zip(boston_df.columns, linear_regression_model.coef_)), key=lambda x: abs(x[1]))"
   ]
  },
  {
   "cell_type": "markdown",
   "metadata": {
    "collapsed": true
   },
   "source": [
    "What are these coefficients? They represent the average change in the housing price for one unit of change in the feature while holding other features in the model constant. For example, holding all else constant, a unit increase in LSTAT decreases our target (housing price) by 3.469 and a unit increase in RM increases our target by 3.062.\n",
    "\n",
    "This is really nice! We can perhaps say that if you want to increase the house values, that increasing RM and decreasing LSTAT might be a place to start. I say might because linear regression is looking at correlations. In our data, this definitely appears to be the case, but that by-itself does not mean that these features have a causal relationship. It could be a good place to look for a causaul relationship, though, and does represent relationships that were seen in the data.\n",
    "\n",
    "## Confidence Intervals\n",
    "\n",
    "Often in machine learning it is very useful to have a confidence interval around your estimates. There are different ways to do this, but one fairly general method is using a **bootstrap.**\n",
    "\n",
    "A bootstrap is a random sample with replacement of our data and this sample is of the same size of the original data. This is a way of generating multiple views of the same data. Let's create 1000 bootstraps of our data."
   ]
  },
  {
   "cell_type": "code",
   "execution_count": 18,
   "metadata": {
    "collapsed": true
   },
   "outputs": [],
   "source": [
    "from sklearn.utils import resample\n",
    "n_bootstraps = 1000\n",
    "bootstrap_X = []\n",
    "bootstrap_y = []\n",
    "for _ in range(n_bootstraps):\n",
    "    sample_X, sample_y = resample(scaled_df, target)\n",
    "    bootstrap_X.append(sample_X)\n",
    "    bootstrap_y.append(sample_y)"
   ]
  },
  {
   "cell_type": "markdown",
   "metadata": {},
   "source": [
    "Then on each of these datasets, we can fit our model and get our coefficents:"
   ]
  },
  {
   "cell_type": "code",
   "execution_count": 19,
   "metadata": {
    "collapsed": true
   },
   "outputs": [],
   "source": [
    "linear_regression_model = SGDRegressor(tol=.0001, eta0=.01)\n",
    "coeffs = []\n",
    "for i, data in enumerate(bootstrap_X):\n",
    "    linear_regression_model.fit(data, bootstrap_y[i])\n",
    "    coeffs.append(linear_regression_model.coef_)"
   ]
  },
  {
   "cell_type": "code",
   "execution_count": 20,
   "metadata": {
    "collapsed": false
   },
   "outputs": [
    {
     "data": {
      "text/plain": [
       "(array([ 1,  2,  3,  4,  5,  6,  7,  8,  9, 10, 11, 12, 13]),\n",
       " <a list of 13 Text xticklabel objects>)"
      ]
     },
     "execution_count": 20,
     "metadata": {},
     "output_type": "execute_result"
    },
    {
     "data": {
      "image/png": "[encoded data removed]",
      "text/plain": [
       "<matplotlib.figure.Figure at 0x11e9c2c88>"
      ]
     },
     "metadata": {},
     "output_type": "display_data"
    }
   ],
   "source": [
    "coef_df = pd.DataFrame(coeffs, columns=boston_df.columns)\n",
    "coef_df.plot(kind='box')\n",
    "plt.xticks(rotation=90)"
   ]
  },
  {
   "cell_type": "code",
   "execution_count": 21,
   "metadata": {
    "collapsed": false
   },
   "outputs": [
    {
     "data": {
      "text/plain": [
       "<matplotlib.axes._subplots.AxesSubplot at 0x11edf26d8>"
      ]
     },
     "execution_count": 21,
     "metadata": {},
     "output_type": "execute_result"
    },
    {
     "data": {
      "image/png": "[encoded data removed]",
      "text/plain": [
       "<matplotlib.figure.Figure at 0x11ee18b70>"
      ]
     },
     "metadata": {},
     "output_type": "display_data"
    }
   ],
   "source": [
    "coef_df['LSTAT'].plot(kind='hist')"
   ]
  },
  {
   "cell_type": "code",
   "execution_count": 22,
   "metadata": {
    "collapsed": false
   },
   "outputs": [
    {
     "data": {
      "text/plain": [
       "count    1000.000000\n",
       "mean       -3.599465\n",
       "std         0.687444\n",
       "min        -5.825069\n",
       "25%        -4.058086\n",
       "50%        -3.592409\n",
       "75%        -3.120958\n",
       "max        -1.575822\n",
       "Name: LSTAT, dtype: float64"
      ]
     },
     "execution_count": 22,
     "metadata": {},
     "output_type": "execute_result"
    }
   ],
   "source": [
    "coef_df['LSTAT'].describe()"
   ]
  },
  {
   "cell_type": "markdown",
   "metadata": {},
   "source": [
    "This is pretty nice! Now we can say with strong confidence that the actual coefficient on LSTAT is negative and almost certaintly between -1.2 and -5.5. And probably with +- 2 std. You can see from the box plots as well that LSTAT and RM have a slightly larger range than some of the other variables."
   ]
  },
  {
   "cell_type": "markdown",
   "metadata": {},
   "source": [
    "## Train / Test Split and Cross Validation\n",
    "\n",
    "Up to this point, we have been training on all the data that we have. This might make sense because we want to maximize the utility of our data by using as much as possible for training. On the other hand, though, it makes it hard to evaluate how well our model is doing. The reason for this is because if we just calculate our MSE score using data that the model was trained on, we might find that we introduced to data it was not trained on, it performs quite poorly. \n",
    "\n",
    "This idea is called **overfitting**. Basically, when a model performs much better on the data it was trained on as opposed to new data, it has overfit to something unique to the training data that doesn't generalize.\n",
    "\n",
    "The other side of this is called **bias.** A model has high bias when it really just doesn't do a good job fitting to the data. In this case the MSE will be high for both the training data and data not seen during training.\n",
    "\n",
    "In machine learning, there is always a trade-off between bias and variance. As your models become more complex, there is a stronger risk of overfitting to your training data.\n",
    "\n",
    "Now that we know there are issues with only looking at MSE on our training data, what can we do to better judge generalizability? As well as diagnose overfitting and bias? Typically, we split our data into two sets: a training set and a testing set."
   ]
  },
  {
   "cell_type": "code",
   "execution_count": 23,
   "metadata": {
    "collapsed": true
   },
   "outputs": [],
   "source": [
    "from sklearn.model_selection import train_test_split\n",
    "\n",
    "X_train, X_test, y_train, y_test = train_test_split(scaled_df, target, test_size=0.33, random_state=42)"
   ]
  },
  {
   "cell_type": "markdown",
   "metadata": {},
   "source": [
    "Now that we have two seperate sets of data, we can train on our training data and calculate metrics for both our training and testing data:"
   ]
  },
  {
   "cell_type": "code",
   "execution_count": 24,
   "metadata": {
    "collapsed": false
   },
   "outputs": [
    {
     "name": "stdout",
     "output_type": "stream",
     "text": [
      "Train MSE: 23.33856804462054\n",
      "Test MSE: 21.820947809040835\n"
     ]
    }
   ],
   "source": [
    "linear_regression_model = SGDRegressor(tol=.0001, eta0=.01)\n",
    "linear_regression_model.fit(X_train, y_train)\n",
    "train_predictions = linear_regression_model.predict(X_train)\n",
    "test_predictions = linear_regression_model.predict(X_test)\n",
    "\n",
    "train_mse = mean_squared_error(y_train, train_predictions)\n",
    "test_mse = mean_squared_error(y_test, test_predictions)\n",
    "\n",
    "print(\"Train MSE: {}\".format(train_mse))\n",
    "print(\"Test MSE: {}\".format(test_mse))"
   ]
  },
  {
   "cell_type": "markdown",
   "metadata": {},
   "source": [
    "Excellent! Now we have RMSE on both our training and testing data. And both our pretty close, which suggests we don't have an overfitting problem. Are they both low, though? Which would suggest a high bias.\n",
    "\n",
    "One way to look into this is by plotting learning curve. A learning curve plots our error function (MSE) with various amounts of data used for training. Here is our plot:"
   ]
  },
  {
   "cell_type": "code",
   "execution_count": 25,
   "metadata": {
    "collapsed": true
   },
   "outputs": [],
   "source": [
    "## source: http://scikit-learn.org/0.15/auto_examples/plot_learning_curve.html\n",
    "def plot_learning_curve(estimator, title, X, y, ylim=None, cv=None,\n",
    "                        n_jobs=1, train_sizes=np.linspace(.1, 1.0, 5)):\n",
    "    \"\"\"\n",
    "    Generate a simple plot of the test and traning learning curve.\n",
    "\n",
    "    Parameters\n",
    "    ----------\n",
    "    estimator : object type that implements the \"fit\" and \"predict\" methods\n",
    "        An object of that type which is cloned for each validation.\n",
    "\n",
    "    title : string\n",
    "        Title for the chart.\n",
    "\n",
    "    X : array-like, shape (n_samples, n_features)\n",
    "        Training vector, where n_samples is the number of samples and\n",
    "        n_features is the number of features.\n",
    "\n",
    "    y : array-like, shape (n_samples) or (n_samples, n_features), optional\n",
    "        Target relative to X for classification or regression;\n",
    "        None for unsupervised learning.\n",
    "\n",
    "    ylim : tuple, shape (ymin, ymax), optional\n",
    "        Defines minimum and maximum yvalues plotted.\n",
    "\n",
    "    cv : integer, cross-validation generator, optional\n",
    "        If an integer is passed, it is the number of folds (defaults to 3).\n",
    "        Specific cross-validation objects can be passed, see\n",
    "        sklearn.cross_validation module for the list of possible objects\n",
    "\n",
    "    n_jobs : integer, optional\n",
    "        Number of jobs to run in parallel (default 1).\n",
    "    \"\"\"\n",
    "    plt.figure()\n",
    "    plt.title(title)\n",
    "    if ylim is not None:\n",
    "        plt.ylim(*ylim)\n",
    "    plt.xlabel(\"Training examples\")\n",
    "    plt.ylabel(\"Score\")\n",
    "    train_sizes, train_scores, test_scores = learning_curve(\n",
    "        estimator, X, y, cv=cv, n_jobs=n_jobs, train_sizes=train_sizes, scoring=make_scorer(mean_squared_error))\n",
    "    train_scores_mean = np.mean(train_scores, axis=1)\n",
    "    train_scores_std = np.std(train_scores, axis=1)\n",
    "    test_scores_mean = np.mean(test_scores, axis=1)\n",
    "    test_scores_std = np.std(test_scores, axis=1)\n",
    "    plt.grid()\n",
    "\n",
    "    plt.fill_between(train_sizes, train_scores_mean - train_scores_std,\n",
    "                     train_scores_mean + train_scores_std, alpha=0.1,\n",
    "                     color=\"r\")\n",
    "    plt.fill_between(train_sizes, test_scores_mean - test_scores_std,\n",
    "                     test_scores_mean + test_scores_std, alpha=0.1, color=\"g\")\n",
    "    plt.plot(train_sizes, train_scores_mean, 'o-', color=\"r\",\n",
    "             label=\"Training score\")\n",
    "    plt.plot(train_sizes, test_scores_mean, 'o-', color=\"g\",\n",
    "             label=\"Cross-validation score\")\n",
    "\n",
    "    plt.legend(loc=\"best\")\n",
    "    return plt"
   ]
  },
  {
   "cell_type": "code",
   "execution_count": 26,
   "metadata": {
    "collapsed": false,
    "scrolled": true
   },
   "outputs": [
    {
     "data": {
      "text/plain": [
       "<module 'matplotlib.pyplot' from '/Users/tfolkman/anaconda3/lib/python3.5/site-packages/matplotlib/pyplot.py'>"
      ]
     },
     "execution_count": 26,
     "metadata": {},
     "output_type": "execute_result"
    },
    {
     "data": {
      "image/png": "[encoded data removed]",
      "text/plain": [
       "<matplotlib.figure.Figure at 0x11eedea58>"
      ]
     },
     "metadata": {},
     "output_type": "display_data"
    }
   ],
   "source": [
    "plot_learning_curve(linear_regression_model, \"Learning Curve\", X_train, y_train, cv=5)"
   ]
  },
  {
   "cell_type": "markdown",
   "metadata": {},
   "source": [
    "You can see that with less than 50 training examples the training MSE is quite good and the cross-validation is quite bad (we have not talked about cross-validation yet, so think of that as testing for now). If we only had that much data then, it would look like a high variance problem.\n",
    "\n",
    "As we increase our data, we begin to improve both of our scores and they become very close, which suggests we don't have a high variance problem. Typically, with high variance this graph would have the two lines fairly far apart and looking like if we continued to add more data, they might converge. \n",
    "\n",
    "This graph looks more like we have a high bias problem since our two curves are very close and flattening out. It is hard to say for sure, though, because we may have just reached the best MSE possible. In that case, this wouldn't be a high bias problem. It would only be a problem if our curves flattened out with an MSE higher than optimal. In real-life, you don't know what the optimal MSE is, so you have to theorize a bit as to whether you think decreasing bias would improve your score - or just try it!\n",
    "\n",
    "### Fix high bias / high variance problems\n",
    "\n",
    "So, now that you have diagnosed your bias or variance problem, how do you fix them?\n",
    "\n",
    "For **high variance**:\n",
    "\n",
    "* Get more training data\n",
    "* Try a smaller set of features\n",
    "* Try a less complex model\n",
    "* Add regularization\n",
    "\n",
    "For **high bias**:\n",
    "\n",
    "* Try adding features\n",
    "* Try a more complex model\n",
    "\n",
    "\n",
    "### Cross validation and tuning hyper-parameters\n",
    "\n",
    "Earlier we mentioned this phrase: cross validation. Let's talk about that now. So far, we have learned that it is a good idea to split your data into training and testing sets to better understand how well the model is actually doing. That is great, but imagine we want to test multiple different models or test different parameters to our model - for example, a different learning rate or tolerance. How would we decide which model or which parameter is best? Would we train everything on the training data and test everything on our testing data? Hopefully, you see that this doesn't make sense because then we would esentially be in the same place we were before without a way to test how well we do with never before seen data. So - we want to keep our testing set untainted in the sense that in a perfect world we would only run our tests on it after we have done all of our experimentation and think we have found the very best model.\n",
    "\n",
    "It sounds like we need a third set of data - a validation set. Basically, what we can do is break down our training data into two sets: a training set and a validation set. All models will be trained on the training set and then tested on our validation set. We then take the model that does the best on validation and see how well it does on testing. Our testing results represent how well we think our model would do with unseen data - and then we are done.\n",
    "\n",
    "Note: the assumption here is that our testing and validation sets our a representative sample of our population. For example, if the average home price in your validation set is 1 million, but in the population it is 300 thousand, you have a bad sample. Often, we randomly sample our available data into our three sets, but it is always good to confirm that these sets are good representations. Otherwise, you will find that your model that worked well in validation and testing performs poorly in production.\n",
    "\n",
    "In practice, instead of creating a single validation set we often use k-fold cross-validation. What this does is we choose a value of k, say 3. We then take our training data and split it into 3 folds. We randomly select 2 folds to train on and then use the remaining for testing. We then repeat this 2 more times, for a total of 3 times such that that all observations are used for both training and validation, and each observation is used for validation exactly once. We would then average all the three scores (in our case MSE) to get a score for a particular model. We can then repeat this process for multiple models to find the best one.\n",
    "\n",
    "Here is a video that describes this process more visually: https://www.youtube.com/watch?v=TIgfjmp-4BA\n",
    "\n",
    "This process is very easy with sklearn:"
   ]
  },
  {
   "cell_type": "code",
   "execution_count": 27,
   "metadata": {
    "collapsed": false
   },
   "outputs": [
    {
     "name": "stdout",
     "output_type": "stream",
     "text": [
      "Best Parameters: {'eta0': 0.01}\n",
      "Best Negative MSE: -25.322156767075665\n"
     ]
    }
   ],
   "source": [
    "from sklearn.model_selection import RandomizedSearchCV\n",
    "\n",
    "param_dist = {\"eta0\": [ .001, .003, .01, .03, .1, .3, 1, 3]}\n",
    "\n",
    "linear_regression_model = SGDRegressor(tol=.0001)\n",
    "\n",
    "n_iter_search = 8\n",
    "random_search = RandomizedSearchCV(linear_regression_model, param_distributions=param_dist,\n",
    "                                   n_iter=n_iter_search, cv=3, scoring='neg_mean_squared_error')\n",
    "random_search.fit(X_train, y_train)\n",
    "\n",
    "print(\"Best Parameters: {}\".format(random_search.best_params_))\n",
    "print(\"Best Negative MSE: {}\".format(random_search.best_score_))"
   ]
  },
  {
   "cell_type": "markdown",
   "metadata": {},
   "source": [
    "Here we actually usd Randomized search which typically is better than searching over all possible values. Often, you want to try many different parameters for many different knobs and grid searching over everything is not efficient. Usually, you want to use a randomized search as we did above. Though, since we only had a small number of values we forced it to be a grid-search by setting n_iter_search to the number of values we wanted to try.\n",
    "\n",
    "We also set cv=3 to have 3 folds and used negative MSE because the CV functions in sklearn try to maximize a value.\n",
    "\n",
    "You can learn more about random search and grid search here: http://scikit-learn.org/stable/modules/grid_search.html\n",
    "\n",
    "Also, sklearn has many other CV functions that are useful especially if you want to test different models with the same folds. Here is some documentation: http://scikit-learn.org/stable/modules/cross_validation.html"
   ]
  },
  {
   "cell_type": "markdown",
   "metadata": {
    "collapsed": true
   },
   "source": [
    "### Regularization\n",
    "\n",
    "As a means to account for high variance models, I mentioned regularization. You can think of regularization as a method used to penalize a model from learning complex relationships. For linear regression, that takes the form of three popular methods. All of these methods are centered around the idea of limiting how large the coefficients on our features can be. The idea being that if we overestimate the impact of a predictor (a large coefficient) it is likely that we are overfitting. Note: we can still have large coefficents. Regularization just says that the decrease in MSE has to justify the increase in coefficient magnitudes.\n",
    "\n",
    "* L1 Regulariztion (Lasso): You add the sum of the absolute values of the coefficients to the cost function. This method can force coefficients to zero, which can then be a means of feature selection\n",
    "* L2 Regularization (Ridge): You add the sum of the squared values of the coefficients to the cost function. \n",
    "* Elastic-net: You add both and choose how to weight them with \n",
    "\n",
    "Each of these methods takes a weighting factor that tells you how much you should weight the regularization term in the cost function. In sklearn, it is called alpha. An alpha of zero would add no penalty, while a high alpha would penalize the model a lot for having large coefficients. You can use cross-validation to discover a good value for alpha.\n",
    "\n",
    "Sklearn makes this easy:"
   ]
  },
  {
   "cell_type": "code",
   "execution_count": 28,
   "metadata": {
    "collapsed": false
   },
   "outputs": [
    {
     "name": "stdout",
     "output_type": "stream",
     "text": [
      "Train MSE: 23.500345265727802\n",
      "Test MSE: 21.60819303537859\n"
     ]
    }
   ],
   "source": [
    "from sklearn.linear_model import ElasticNetCV\n",
    "\n",
    "# l1 ratio of zero is l2 and visa-versa \n",
    "# alphas are how much to weight regularization\n",
    "clf = ElasticNetCV(l1_ratio=[.1, .5, .7, .9, .95, .99, 1], alphas=[.1, 1, 10])\n",
    "clf.fit(X_train, y_train)\n",
    "train_predictions = clf.predict(X_train)\n",
    "test_predictions = clf.predict(X_test)\n",
    "print(\"Train MSE: {}\".format(mean_squared_error(y_train, train_predictions)))\n",
    "print(\"Test MSE: {}\".format(mean_squared_error(y_test, test_predictions)))"
   ]
  }
 ],
 "metadata": {
  "kernelspec": {
   "display_name": "Python 3",
   "language": "python",
   "name": "python3"
  },
  "language_info": {
   "codemirror_mode": {
    "name": "ipython",
    "version": 3
   },
   "file_extension": ".py",
   "mimetype": "text/x-python",
   "name": "python",
   "nbconvert_exporter": "python",
   "pygments_lexer": "ipython3",
   "version": "3.5.3"
  }
 },
 "nbformat": 4,
 "nbformat_minor": 2
}
